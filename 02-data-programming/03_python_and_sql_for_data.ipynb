{
 "cells": [
  {
   "cell_type": "markdown",
   "metadata": {},
   "source": [
    "# โจทย์: Automate SQL ได้ไหม?\n"
   ]
  },
  {
   "cell_type": "markdown",
   "metadata": {},
   "source": [
    "## SQLite with Python"
   ]
  },
  {
   "cell_type": "code",
   "execution_count": 23,
   "metadata": {},
   "outputs": [],
   "source": [
    "# เปลี่ยนจาก sqlite3 เป็น sqlalchemy\n",
    "from sqlalchemy import create_engine, text\n",
    "\n",
    "# สร้าง engine แทนการใช้ connect โดยตรง\n",
    "engine = create_engine('sqlite:///mysqlite.db')\n",
    "\n",
    "# สร้างตาราง products ด้วย engine.execute\n",
    "with engine.connect() as conn:\n",
    "    conn.execute(text('''\n",
    "    CREATE TABLE IF NOT EXISTS products (\n",
    "        product_id INTEGER PRIMARY KEY,\n",
    "        name TEXT NOT NULL,\n",
    "        price REAL NOT NULL,\n",
    "        category TEXT\n",
    "    )\n",
    "    '''))\n",
    "\n",
    "    # สร้างตาราง orders\n",
    "    conn.execute(text('''\n",
    "    CREATE TABLE IF NOT EXISTS orders (\n",
    "        order_id INTEGER PRIMARY KEY,\n",
    "        product_id INTEGER,\n",
    "        quantity INTEGER,\n",
    "        order_date TEXT\n",
    "    )\n",
    "    '''))"
   ]
  },
  {
   "cell_type": "code",
   "execution_count": 24,
   "metadata": {},
   "outputs": [],
   "source": [
    "with engine.connect() as conn:\n",
    "    # เพิ่มข้อมูลในตาราง products\n",
    "    conn.execute(text('''\n",
    "    INSERT INTO products (name, price, category)\n",
    "    VALUES ('iPhone 14', 35900, 'Electronics')\n",
    "    '''))\n",
    "    \n",
    "    # เพิ่มข้อมูลในตาราง orders \n",
    "    conn.execute(text('''\n",
    "    INSERT INTO orders (product_id, quantity, order_date)\n",
    "    VALUES (1, 2, '2023-10-20')\n",
    "    '''))\n",
    "    \n",
    "    conn.commit()"
   ]
  },
  {
   "cell_type": "markdown",
   "metadata": {},
   "source": [
    "## Faker"
   ]
  },
  {
   "cell_type": "code",
   "execution_count": null,
   "metadata": {},
   "outputs": [],
   "source": [
    "from faker import Faker\n",
    "\n",
    "# สร้าง Faker object สำหรับภาษาไทย\n",
    "fake = Faker()\n",
    "\n",
    "fake_data = {\n",
    "    \"name\": fake.random_element(elements=(\"iPhone\", \"iPad\", \"MacBook\", \"AirPods\")),\n",
    "    \"price\": fake.random_int(min=100, max=50000),\n",
    "    \"category\": fake.random_element(\n",
    "        elements=(\"Electronics\", \"Clothing\", \"Food\", \"Books\")\n",
    "    ),\n",
    "}\n",
    "fake_data"
   ]
  },
  {
   "cell_type": "markdown",
   "metadata": {},
   "source": [
    "## Faker + SQLite"
   ]
  },
  {
   "cell_type": "code",
   "execution_count": null,
   "metadata": {},
   "outputs": [],
   "source": [
    "# สร้างข้อมูลปลอมด้วย Faker\n",
    "fake_product = {\n",
    "    \"name\": fake.random_element(elements=(\"iPhone\", \"iPad\", \"MacBook\", \"AirPods\")),\n",
    "    \"price\": fake.random_int(min=100, max=50000), \n",
    "    \"category\": fake.random_element(elements=(\"Electronics\", \"Clothing\", \"Food\", \"Books\"))\n",
    "}\n",
    "fake_product\n"
   ]
  },
  {
   "cell_type": "code",
   "execution_count": 27,
   "metadata": {},
   "outputs": [],
   "source": [
    "# เพิ่มข้อมูลลงใน SQLite\n",
    "with engine.connect() as conn:\n",
    "    conn.execute(text('''\n",
    "    INSERT INTO products (name, price, category)\n",
    "    VALUES (:name, :price, :category)\n",
    "    '''), fake_product)\n",
    "    conn.commit()"
   ]
  },
  {
   "cell_type": "markdown",
   "metadata": {},
   "source": [
    "## Pandas"
   ]
  },
  {
   "cell_type": "code",
   "execution_count": 28,
   "metadata": {},
   "outputs": [],
   "source": [
    "import pandas as pd"
   ]
  },
  {
   "cell_type": "code",
   "execution_count": null,
   "metadata": {},
   "outputs": [],
   "source": [
    "# สร้าง Series จากข้อมูลตัวเลข\n",
    "series1 = pd.Series([1, 2, 3, 4, 5])\n",
    "series1"
   ]
  },
  {
   "cell_type": "code",
   "execution_count": null,
   "metadata": {},
   "outputs": [],
   "source": [
    "# สร้าง Series จากข้อมูลข้อความ\n",
    "series2 = pd.Series(['แอปเปิ้ล', 'กล้วย', 'ส้ม'])\n",
    "print(series2)"
   ]
  },
  {
   "cell_type": "code",
   "execution_count": null,
   "metadata": {},
   "outputs": [],
   "source": [
    "# สร้าง DataFrame จากข้อมูลพื้นฐาน\n",
    "data = {\n",
    "    'name': ['สมชาย', 'สมหญิง', 'สมศรี'],\n",
    "    'age': [25, 30, 35],\n",
    "    'city': ['กรุงเทพ', 'เชียงใหม่', 'ภูเก็ต']\n",
    "}\n",
    "df = pd.DataFrame(data)\n",
    "df"
   ]
  },
  {
   "cell_type": "code",
   "execution_count": null,
   "metadata": {},
   "outputs": [],
   "source": [
    "# แสดงข้อมูลเบื้องต้นของ DataFrame\n",
    "df.describe()"
   ]
  },
  {
   "cell_type": "code",
   "execution_count": null,
   "metadata": {},
   "outputs": [],
   "source": [
    "# การเข้าถึงคอลัมน์\n",
    "df['name']"
   ]
  },
  {
   "cell_type": "markdown",
   "metadata": {},
   "source": [
    "## Pandas + SQLite"
   ]
  },
  {
   "cell_type": "code",
   "execution_count": null,
   "metadata": {},
   "outputs": [],
   "source": [
    "data = {\n",
    "    'name': ['สมชาย', 'สมหญิง', 'สมศรี'],\n",
    "    'age': [25, 30, 35],\n",
    "    'city': ['กรุงเทพ', 'เชียงใหม่', 'ภูเก็ต']\n",
    "}\n",
    "df = pd.DataFrame(data)\n",
    "df"
   ]
  },
  {
   "cell_type": "code",
   "execution_count": null,
   "metadata": {},
   "outputs": [],
   "source": [
    "df.to_sql('people', engine, if_exists='replace', index=False)"
   ]
  },
  {
   "cell_type": "markdown",
   "metadata": {},
   "source": [
    "## Pandas + SQLite + Faker"
   ]
  },
  {
   "cell_type": "code",
   "execution_count": null,
   "metadata": {},
   "outputs": [],
   "source": [
    "# สร้างข้อมูลปลอมด้วย Faker\n",
    "products = []   \n",
    "for _ in range(100):\n",
    "    product = {\n",
    "        \"name\": fake.random_element(elements=(\"iPhone\", \"iPad\", \"MacBook\", \"AirPods\")),\n",
    "    \"price\": fake.random_int(min=100, max=50000), \n",
    "        \"category\": fake.random_element(elements=(\"Electronics\", \"Clothing\", \"Food\", \"Books\"))\n",
    "    }\n",
    "    products.append(product)\n",
    "\n",
    "# สร้าง DataFrame สำหรับสินค้า\n",
    "df_products = pd.DataFrame(products)\n",
    "df_products"
   ]
  },
  {
   "cell_type": "code",
   "execution_count": null,
   "metadata": {},
   "outputs": [],
   "source": [
    "df_products.to_sql('products', engine, if_exists='append', index=False)"
   ]
  },
  {
   "cell_type": "markdown",
   "metadata": {},
   "source": [
    "## Challege: สร้างข้อมูลลูกค้าโดยใช้ Faker และ Pandas และเพิ่มลงใน SQLite ทุก 5 วินาที"
   ]
  },
  {
   "cell_type": "code",
   "execution_count": null,
   "metadata": {},
   "outputs": [],
   "source": [
    "import faker\n",
    "import pandas as pd\n",
    "import time\n",
    "\n",
    "# สร้าง Faker object สำหรับสร้างข้อมูลปลอม\n",
    "fake = faker.Faker()\n",
    "\n",
    "# สร้างข้อมูลลูกค้า\n",
    "while True:\n",
    "    customers = []\n",
    "    for _ in range(5):  # สร้าง 5 รายการ\n",
    "        customer = {\n",
    "            'customer_id': fake.uuid4(),\n",
    "            'name': fake.name(),\n",
    "            'email': fake.email(), \n",
    "            'phone': fake.phone_number(),\n",
    "            'address': fake.address(),\n",
    "            'segment': fake.random_element(['Retail', 'Wholesale', 'Online', 'In-Store']),\n",
    "            'join_date': fake.date_between(start_date='-2y', end_date='today'),\n",
    "            'loyalty_points': fake.random_int(min=0, max=1000)\n",
    "        }\n",
    "        customers.append(customer)\n",
    "\n",
    "    # แสดงข้อมูลลูกค้าในรูปแบบ DataFrame\n",
    "    customer_df = pd.DataFrame(customers)\n",
    "    customer_df.to_sql('customers', engine, if_exists='append', index=False)\n",
    "    print(f\"Created {len(customers)} customers at {time.strftime('%H:%M:%S')}\")\n",
    "    time.sleep(5)"
   ]
  },
  {
   "cell_type": "code",
   "execution_count": null,
   "metadata": {},
   "outputs": [],
   "source": [
    "import faker\n",
    "import pandas as pd\n",
    "import time\n",
    "\n",
    "# สร้าง Faker object สำหรับสร้างข้อมูลปลอม\n",
    "fake = faker.Faker()\n",
    "\n",
    "def generate_customers(num_customers):\n",
    "    customers = []\n",
    "    for _ in range(num_customers):  # สร้าง 5 รายการ\n",
    "        customer = {\n",
    "            'customer_id': fake.uuid4(),\n",
    "            'name': fake.name(),\n",
    "            'email': fake.email(), \n",
    "            'phone': fake.phone_number(),\n",
    "            'address': fake.address(),\n",
    "            'segment': fake.random_element(['Retail', 'Wholesale', 'Online', 'In-Store']),\n",
    "            'join_date': fake.date_between(start_date='-2y', end_date='today'),\n",
    "            'loyalty_points': fake.random_int(min=0, max=1000)\n",
    "        }\n",
    "        customers.append(customer)\n",
    "    return customers\n",
    "\n",
    "# สร้างข้อมูลลูกค้า\n",
    "while True:\n",
    "    customers = generate_customers(5)\n",
    "    customer_df = pd.DataFrame(customers)\n",
    "    customer_df.to_sql('customers', engine, if_exists='append', index=False)\n",
    "    print(f\"Created {len(customers)} customers at {time.strftime('%H:%M:%S')}\")\n",
    "    time.sleep(5)"
   ]
  },
  {
   "cell_type": "code",
   "execution_count": null,
   "metadata": {},
   "outputs": [],
   "source": []
  }
 ],
 "metadata": {
  "kernelspec": {
   "display_name": "llm",
   "language": "python",
   "name": "python3"
  },
  "language_info": {
   "codemirror_mode": {
    "name": "ipython",
    "version": 3
   },
   "file_extension": ".py",
   "mimetype": "text/x-python",
   "name": "python",
   "nbconvert_exporter": "python",
   "pygments_lexer": "ipython3",
   "version": "3.11.8"
  }
 },
 "nbformat": 4,
 "nbformat_minor": 2
}
